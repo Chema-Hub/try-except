{
  "nbformat": 4,
  "nbformat_minor": 0,
  "metadata": {
    "colab": {
      "provenance": [],
      "include_colab_link": true
    },
    "kernelspec": {
      "name": "python3",
      "display_name": "Python 3"
    },
    "language_info": {
      "name": "python"
    }
  },
  "cells": [
    {
      "cell_type": "markdown",
      "metadata": {
        "id": "view-in-github",
        "colab_type": "text"
      },
      "source": [
        "<a href=\"https://colab.research.google.com/github/Chema-Hub/try-except/blob/main/Mix_Chain_job.ipynb\" target=\"_parent\"><img src=\"https://colab.research.google.com/assets/colab-badge.svg\" alt=\"Open In Colab\"/></a>"
      ]
    },
    {
      "cell_type": "markdown",
      "source": [
        "# Ejercicio 1: Normalización de texto"
      ],
      "metadata": {
        "id": "8pd7q0QltJkV"
      }
    },
    {
      "cell_type": "markdown",
      "source": [
        "Dada una cadena con diferentes mayúsculas y espacios adicionales, conviértela en minúsculas, sin espacios sobrantes y reemplaza cualquier ocurrencia de \"python\" por \"PYTHON\"."
      ],
      "metadata": {
        "id": "s7P7GZnMtM9K"
      }
    },
    {
      "cell_type": "code",
      "source": [
        "frase = ' PyThOn '\n",
        "frase_minuscula = frase.lower()\n",
        "frase_ = frase_minuscula.strip()\n",
        "print(frase_)"
      ],
      "metadata": {
        "id": "J2m8PMCYtLMi",
        "colab": {
          "base_uri": "https://localhost:8080/"
        },
        "outputId": "6160d96b-61ef-4921-f30c-dcdcf172ce7d"
      },
      "execution_count": 17,
      "outputs": [
        {
          "output_type": "stream",
          "name": "stdout",
          "text": [
            "python\n"
          ]
        }
      ]
    },
    {
      "cell_type": "markdown",
      "source": [
        "# Ejercicio 2: Contar ocurrencias de una letra"
      ],
      "metadata": {
        "id": "oPq0HqiDtWiK"
      }
    },
    {
      "cell_type": "markdown",
      "source": [
        "Pide al usuario una frase y una letra, y cuenta cuántas veces aparece la letra en la frase."
      ],
      "metadata": {
        "id": "8MlvT7DNtYvC"
      }
    },
    {
      "cell_type": "markdown",
      "source": [
        "Ingrese una frase: \"Hola mundo, hola Python\"\n",
        "\n",
        "Ingrese una letra: \"o\"\n"
      ],
      "metadata": {
        "id": "KEZEhjlBtc8i"
      }
    },
    {
      "cell_type": "code",
      "source": [
        "oracion = input('Introduzca aquí una oración: ').lower()\n",
        "letra = input('Indique aquí la letra que quiere buscar: ').lower()\n",
        "contador_letra = 0\n",
        "\n",
        "for lett in oracion:\n",
        "  if lett == letra:\n",
        "    contador_letra += 1\n",
        "print(f'En la oración \"{oracion}\" aparece {contador_letra} veces la letra \"{letra}\"')\n",
        "\n"
      ],
      "metadata": {
        "id": "BufFh9nrtd2S",
        "colab": {
          "base_uri": "https://localhost:8080/"
        },
        "outputId": "e7e9bd14-915b-4b3e-ca23-23f5d9818728"
      },
      "execution_count": 22,
      "outputs": [
        {
          "output_type": "stream",
          "name": "stdout",
          "text": [
            "Introduzca aquí una oración: Hola mundo, hola Python\n",
            "Indique aquí la letra que quiere buscar: o\n",
            "En la oración \"hola mundo, hola python\" aparece 4 veces la letra \"o\"\n"
          ]
        }
      ]
    },
    {
      "cell_type": "markdown",
      "source": [
        "## **Ejercicio 3: Extraer nombre de usuario de un correo**\n",
        "\n",
        "Dado un correo electrónico, extrae el nombre de usuario antes del `@`."
      ],
      "metadata": {
        "id": "v_35ORJHtk0y"
      }
    },
    {
      "cell_type": "code",
      "source": [
        "correo = \"usuario123@gmail.com\"\n"
      ],
      "metadata": {
        "id": "zORdgpFatodr"
      },
      "execution_count": null,
      "outputs": []
    },
    {
      "cell_type": "code",
      "source": [
        "correo = \"usuario123@gmail.com\"\n",
        "nombre_usuario = correo[:-10]\n",
        "print(nombre_usuario)"
      ],
      "metadata": {
        "id": "WphjBRB-tpKK",
        "colab": {
          "base_uri": "https://localhost:8080/"
        },
        "outputId": "53ad7771-0624-4763-d397-56d2432a694e"
      },
      "execution_count": 23,
      "outputs": [
        {
          "output_type": "stream",
          "name": "stdout",
          "text": [
            "usuario123\n"
          ]
        }
      ]
    },
    {
      "cell_type": "markdown",
      "source": [
        "## **Ejercicio 4: Capitalizar nombres**\n",
        "\n",
        "Dado un nombre ingresado en minúsculas, conviértelo a formato de nombre propio (`title()`)."
      ],
      "metadata": {
        "id": "NzvBSIQztqPa"
      }
    },
    {
      "cell_type": "code",
      "source": [
        "nombre = \"juan pérez\"\n"
      ],
      "metadata": {
        "id": "-aIJA_8ZttFD"
      },
      "execution_count": null,
      "outputs": []
    },
    {
      "cell_type": "code",
      "source": [
        "nombre = \"juan pérez\"\n",
        "nombre_propio = nombre.title()\n",
        "print(nombre_propio)"
      ],
      "metadata": {
        "id": "r2mfuVbhtutC",
        "colab": {
          "base_uri": "https://localhost:8080/"
        },
        "outputId": "33e1642d-de4c-4a46-d35f-a61e037e9874"
      },
      "execution_count": 24,
      "outputs": [
        {
          "output_type": "stream",
          "name": "stdout",
          "text": [
            "Juan Pérez\n"
          ]
        }
      ]
    },
    {
      "cell_type": "markdown",
      "source": [
        "  ## **Ejercicio 5: Verificar si una palabra está en una frase**\n",
        "\n",
        "Pide una frase y una palabra al usuario y verifica si la palabra está en la frase usando `find()`."
      ],
      "metadata": {
        "id": "kPMPUH8Btv2k"
      }
    },
    {
      "cell_type": "markdown",
      "source": [
        "Ingrese una frase: \"Hoy es un buen día\"\n",
        "\n",
        "Ingrese una palabra a buscar: \"buen\"\n"
      ],
      "metadata": {
        "id": "wBbIqXbftzJS"
      }
    },
    {
      "cell_type": "code",
      "source": [
        "frase = input('Introduce aquí una frase: ')\n",
        "palabra = input('Introduce aquí una palabra: ')\n",
        "frase.find(palabra)"
      ],
      "metadata": {
        "id": "27zzPrVDt0ej",
        "colab": {
          "base_uri": "https://localhost:8080/"
        },
        "outputId": "846cfc92-f372-4611-ca8d-43a1e95a3e45"
      },
      "execution_count": 26,
      "outputs": [
        {
          "name": "stdout",
          "output_type": "stream",
          "text": [
            "Introduce aquí una frase: hola que tal\n",
            "Introduce aquí una palabra: hola\n"
          ]
        },
        {
          "output_type": "execute_result",
          "data": {
            "text/plain": [
              "0"
            ]
          },
          "metadata": {},
          "execution_count": 26
        }
      ]
    },
    {
      "cell_type": "markdown",
      "source": [
        "## **Ejercicio 6: Repetición de un mensaje**\n",
        "\n",
        "Pide un mensaje y un número al usuario, y repite el mensaje esa cantidad de veces.\n"
      ],
      "metadata": {
        "id": "yHRkIdQKt1yr"
      }
    },
    {
      "cell_type": "markdown",
      "source": [
        "Ingrese un mensaje: \"Hola\"\n",
        "\n",
        "Ingrese un número: 3\n"
      ],
      "metadata": {
        "id": "7Lpbn1Rrt5Cr"
      }
    },
    {
      "cell_type": "code",
      "source": [
        "mensaje = input('Introduce aquí una palabra: ').lower()\n",
        "multiplicador = int(input('Introduce aquí un numero: '))\n",
        "mensaje_repetido = mensaje * multiplicador\n",
        "print(mensaje_repetido)"
      ],
      "metadata": {
        "id": "sYl07BGst6nj",
        "colab": {
          "base_uri": "https://localhost:8080/"
        },
        "outputId": "7a5d9322-d844-48e3-cf35-f481a38cd238"
      },
      "execution_count": 29,
      "outputs": [
        {
          "output_type": "stream",
          "name": "stdout",
          "text": [
            "Introduce aquí una palabra: hola\n",
            "Introduce aquí un numero: 0\n",
            "\n"
          ]
        }
      ]
    },
    {
      "cell_type": "markdown",
      "source": [
        "## **Ejercicio 7: Generar una contraseña con las iniciales**\n",
        "\n",
        "Dado un nombre y un apellido, genera una contraseña usando las **tres primeras letras del nombre y apellido**, más una secuencia de `*`."
      ],
      "metadata": {
        "id": "zWJxcRpZt9hC"
      }
    },
    {
      "cell_type": "code",
      "source": [
        "nombre = \"Carlos\"\n",
        "apellido = \"García\"\n"
      ],
      "metadata": {
        "id": "FGw7HnG9t-dj"
      },
      "execution_count": null,
      "outputs": []
    },
    {
      "cell_type": "code",
      "source": [
        "nombre = \"Carlos\"\n",
        "nombre_fragmentado = nombre[0:3]\n",
        "apellido = \"García\"\n",
        "apellido_fragmentado = apellido[0:3]\n",
        "asteriscos = \"*********\"\n",
        "contraseña = nombre_fragmentado + apellido_fragmentado + asteriscos\n",
        "print(contraseña)"
      ],
      "metadata": {
        "id": "mbTmgDNFt_fT",
        "colab": {
          "base_uri": "https://localhost:8080/"
        },
        "outputId": "98ba9281-92ed-49b5-d74c-63f3637ac81b"
      },
      "execution_count": 31,
      "outputs": [
        {
          "output_type": "stream",
          "name": "stdout",
          "text": [
            "CarGar*********\n"
          ]
        }
      ]
    },
    {
      "cell_type": "markdown",
      "source": [
        "## **Ejercicio 8: Invertir una cadena**\n",
        "\n",
        "Pide al usuario que ingrese un texto y devuelve el texto al revés."
      ],
      "metadata": {
        "id": "1GcWFg4vuCfC"
      }
    },
    {
      "cell_type": "markdown",
      "source": [
        "Ingrese un texto: \"Python\"\n"
      ],
      "metadata": {
        "id": "cJ911i15uDmr"
      }
    },
    {
      "cell_type": "code",
      "source": [
        "frase = input('Escriba aquí un texto: ').lower()\n",
        "frase_invertida = frase[::-1]\n",
        "print(frase_invertida)"
      ],
      "metadata": {
        "id": "cPsVfv5NuFSL",
        "colab": {
          "base_uri": "https://localhost:8080/"
        },
        "outputId": "f5bcc8d7-67e0-4b5f-b28b-f4f3822ab13f"
      },
      "execution_count": 32,
      "outputs": [
        {
          "output_type": "stream",
          "name": "stdout",
          "text": [
            "Escriba aquí un texto: hola que tal\n",
            "lat euq aloh\n"
          ]
        }
      ]
    },
    {
      "cell_type": "markdown",
      "source": [
        "## **Ejercicio 9: Contar palabras en una frase**\n",
        "\n",
        "Pide una frase al usuario y cuenta cuántas palabras tiene (usando `split()`)."
      ],
      "metadata": {
        "id": "k7VDI3qyuGf7"
      }
    },
    {
      "cell_type": "markdown",
      "source": [
        "Ingrese una frase: \"Python es un lenguaje poderoso\"\n"
      ],
      "metadata": {
        "id": "U3Kta678uJlb"
      }
    },
    {
      "cell_type": "code",
      "source": [
        "frase = input('Introduzca aquí su frase: ').lower()\n",
        "contador_palabras = 0\n",
        "palabras = frase.split()\n",
        "for palabra in palabras:\n",
        "  contador_palabras += 1\n",
        "print(contador_palabras)"
      ],
      "metadata": {
        "id": "CiT43pLnuK4L",
        "colab": {
          "base_uri": "https://localhost:8080/"
        },
        "outputId": "389b666c-a03b-4c6d-a5ec-f8a0e12bcd68"
      },
      "execution_count": 33,
      "outputs": [
        {
          "output_type": "stream",
          "name": "stdout",
          "text": [
            "Introduzca aquí su frase: Python es un lenguaje poderoso\n",
            "5\n"
          ]
        }
      ]
    },
    {
      "cell_type": "markdown",
      "source": [
        "## **Ejercicio 10: Formatear números en una oración**\n",
        "\n",
        "Dado un número ingresado por el usuario, inserta ese número en una frase formateada correctamente."
      ],
      "metadata": {
        "id": "O8g72uS_uL1E"
      }
    },
    {
      "cell_type": "markdown",
      "source": [
        "Ingrese un número: 5\n"
      ],
      "metadata": {
        "id": "odRtI1_1uOCb"
      }
    },
    {
      "cell_type": "code",
      "source": [
        "frase = input('Escriba aquí su frase: ').lower().strip()\n",
        "numero = (input('Escriba aquí un numero: '))\n",
        "frase_mutada = frase.replace('s', numero)\n",
        "print(frase_mutada)"
      ],
      "metadata": {
        "id": "Ei4NNshBuPPs",
        "colab": {
          "base_uri": "https://localhost:8080/"
        },
        "outputId": "212e06d4-266b-447b-be86-eb9ca2544c59"
      },
      "execution_count": 35,
      "outputs": [
        {
          "output_type": "stream",
          "name": "stdout",
          "text": [
            "Escriba aquí su frase: estas bien\n",
            "Escriba aquí un numero: 5\n",
            "e5ta5 bien\n"
          ]
        }
      ]
    },
    {
      "cell_type": "markdown",
      "source": [
        "# Final Boss\n",
        "\n",
        "Escribe un programa en Python que realice las siguientes operaciones con cadenas de texto:\n",
        "\n",
        "### **Pasos a seguir**\n",
        "\n",
        "1. **Solicitar al usuario** que ingrese una **frase con palabras en mayúsculas y minúsculas** y algunos **espacios al inicio y al final**.\n",
        "2. **Eliminar los espacios sobrantes** y normalizar la frase a minúsculas.\n",
        "3. **Buscar una palabra clave en la frase** ingresada por el usuario y mostrar su posición en la cadena.\n",
        "4. **Reemplazar** una palabra específica dentro de la frase por otra palabra elegida por el usuario.\n",
        "5. **Dividir la frase en una lista de palabras** e imprimir la primera y la última palabra.\n",
        "6. **Unir las palabras nuevamente en una cadena**, pero separadas por un guion ``.\n",
        "7. **Extraer los primeros y últimos tres caracteres** de la frase final usando slicing.\n",
        "8. **Concatenar** las dos partes extraídas en el paso anterior y mostrar el resultado.\n",
        "9. **Repetir la frase final tres veces** y mostrar el resultado."
      ],
      "metadata": {
        "id": "H62CANZIwMDs"
      }
    },
    {
      "cell_type": "code",
      "source": [
        "#1&2\n",
        "frase = input('Escriba una frase con palabras en mayúsculas y minúsculas y algunos espacios al inicio y al final: ').lower().strip()\n",
        "print(frase)\n",
        "#3\n",
        "frase.find('hey')\n",
        "#4\n",
        "palabra = input('Escriba una palabra que reemplazara a una de la frase: ').lower().strip()\n",
        "frase_nueva = frase.replace('hey', palabra)\n",
        "print(frase_nueva)\n",
        "#5\n",
        "palabras_frase = frase_nueva.split()\n",
        "print(palabras_frase[0])\n",
        "print(palabras_frase[-1])\n",
        "#6\n",
        "palabras_juntas = '-'.join(palabras_frase)\n",
        "print(palabras_juntas)\n",
        "#7\n",
        "principio_palabras_juntas = palabras_juntas[:3]\n",
        "print(principio_palabras_juntas)\n",
        "final_palabras_juntas = palabras_juntas[-3:]\n",
        "print(final_palabras_juntas)\n",
        "#8\n",
        "fragmentos_concatenados = principio_palabras_juntas + final_palabras_juntas\n",
        "print(fragmentos_concatenados)\n",
        "#9\n",
        "fragmentos_concatenados_multiplicados = fragmentos_concatenados * 3\n",
        "print(fragmentos_concatenados_multiplicados)"
      ],
      "metadata": {
        "id": "-6bUPtviwUY0",
        "colab": {
          "base_uri": "https://localhost:8080/"
        },
        "outputId": "c9fc10c4-2c4d-45f6-cb84-ac7f393ee41c"
      },
      "execution_count": 42,
      "outputs": [
        {
          "output_type": "stream",
          "name": "stdout",
          "text": [
            "Escriba una frase con palabras en mayúsculas y minúsculas y algunos espacios al inicio y al final:    hey que tAl\n",
            "hey que tal\n",
            "Escriba una palabra que reemplazara a una de la frase: hola\n",
            "hola que tal\n",
            "hola\n",
            "tal\n",
            "hola-que-tal\n",
            "hol\n",
            "tal\n",
            "holtal\n",
            "holtalholtalholtal\n"
          ]
        }
      ]
    },
    {
      "cell_type": "code",
      "source": [],
      "metadata": {
        "id": "M-mrzmjBtIVl"
      },
      "execution_count": null,
      "outputs": []
    }
  ]
}